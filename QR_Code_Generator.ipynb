{
  "nbformat": 4,
  "nbformat_minor": 0,
  "metadata": {
    "colab": {
      "provenance": []
    },
    "kernelspec": {
      "name": "python3",
      "display_name": "Python 3"
    },
    "language_info": {
      "name": "python"
    }
  },
  "cells": [
    {
      "cell_type": "code",
      "source": [
        "!pip install segno"
      ],
      "metadata": {
        "colab": {
          "base_uri": "https://localhost:8080/"
        },
        "id": "efty-yJukcvM",
        "outputId": "eff4869d-1794-4556-f15c-76047ae09130"
      },
      "execution_count": null,
      "outputs": [
        {
          "output_type": "stream",
          "name": "stdout",
          "text": [
            "Looking in indexes: https://pypi.org/simple, https://us-python.pkg.dev/colab-wheels/public/simple/\n",
            "Collecting segno\n",
            "  Downloading segno-1.5.2-py2.py3-none-any.whl (83 kB)\n",
            "\u001b[2K     \u001b[90m━━━━━━━━━━━━━━━━━━━━━━━━━━━━━━━━━━━━━━━━\u001b[0m \u001b[32m83.0/83.0 KB\u001b[0m \u001b[31m1.4 MB/s\u001b[0m eta \u001b[36m0:00:00\u001b[0m\n",
            "\u001b[?25hInstalling collected packages: segno\n",
            "Successfully installed segno-1.5.2\n"
          ]
        }
      ]
    },
    {
      "cell_type": "code",
      "execution_count": null,
      "metadata": {
        "colab": {
          "base_uri": "https://localhost:8080/"
        },
        "id": "QkPLaMeaj0D9",
        "outputId": "298b818c-4821-45b6-c15e-6160329814eb"
      },
      "outputs": [
        {
          "name": "stdout",
          "output_type": "stream",
          "text": [
            "Text to Encode: https://ahmedthahir.github.io/bcp/\n"
          ]
        }
      ],
      "source": [
        "text = input(\"Text to Encode: \")\n",
        "file_name = \"qrcode\"\n",
        "\n",
        "import segno\n",
        "qrcode = segno.make(text)\n",
        "\n",
        "for format in [\"svg\", \"png\", \"pdf\"]:\n",
        "  qrcode.save(\n",
        "      f\"{file_name}.{format}\",\n",
        "      scale=10,\n",
        "      border = 1\n",
        "  )"
      ]
    }
  ]
}